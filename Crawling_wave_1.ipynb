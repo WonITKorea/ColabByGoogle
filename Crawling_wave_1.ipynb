{
  "nbformat": 4,
  "nbformat_minor": 0,
  "metadata": {
    "colab": {
      "provenance": [],
      "authorship_tag": "ABX9TyPaTDg34q27nCOQ8XTcl68N",
      "include_colab_link": true
    },
    "kernelspec": {
      "name": "python3",
      "display_name": "Python 3"
    },
    "language_info": {
      "name": "python"
    },
    "accelerator": "TPU",
    "gpuClass": "standard"
  },
  "cells": [
    {
      "cell_type": "markdown",
      "metadata": {
        "id": "view-in-github",
        "colab_type": "text"
      },
      "source": [
        "<a href=\"https://colab.research.google.com/github/WonITKorea/ColabByGoogle/blob/main/Crawling_wave_1.ipynb\" target=\"_parent\"><img src=\"https://colab.research.google.com/assets/colab-badge.svg\" alt=\"Open In Colab\"/></a>"
      ]
    },
    {
      "cell_type": "code",
      "source": [
        "import requests\n",
        "from bs4 import BeautifulSoup\n",
        "\n",
        "req = requests.get('https://google.com/search?q=')"
      ],
      "metadata": {
        "id": "8PJps2GnAcxL"
      },
      "execution_count": 3,
      "outputs": []
    },
    {
      "cell_type": "code",
      "source": [
        "## HTML 소스 가져오기\n",
        "html = req.text"
      ],
      "metadata": {
        "id": "TZrKyPhKggqR"
      },
      "execution_count": 4,
      "outputs": []
    },
    {
      "cell_type": "code",
      "source": [
        "## HTTP Header 가져오기\n",
        "header = req.headers"
      ],
      "metadata": {
        "id": "7t_FxxF_gisN"
      },
      "execution_count": 5,
      "outputs": []
    },
    {
      "cell_type": "code",
      "source": [
        "## HTTP Status 가져오기 (200: 정상)\n",
        "status = req.status_code"
      ],
      "metadata": {
        "id": "Fh1XMHoKglE0"
      },
      "execution_count": 7,
      "outputs": []
    },
    {
      "cell_type": "code",
      "source": [
        "## HTTP가 정상적으로 되었는지 (True/False)\n",
        "is_ok = req.ok"
      ],
      "metadata": {
        "id": "ErYVwpJrgmzb"
      },
      "execution_count": 8,
      "outputs": []
    }
  ]
}