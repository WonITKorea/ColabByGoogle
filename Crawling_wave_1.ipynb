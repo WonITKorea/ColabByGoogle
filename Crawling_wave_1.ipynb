{
  "nbformat": 4,
  "nbformat_minor": 0,
  "metadata": {
    "colab": {
      "provenance": [],
      "authorship_tag": "ABX9TyNfGut8nowztPcusuPkqH/z",
      "include_colab_link": true
    },
    "kernelspec": {
      "name": "python3",
      "display_name": "Python 3"
    },
    "language_info": {
      "name": "python"
    }
  },
  "cells": [
    {
      "cell_type": "markdown",
      "metadata": {
        "id": "view-in-github",
        "colab_type": "text"
      },
      "source": [
        "<a href=\"https://colab.research.google.com/github/WonITKorea/ColabByGoogle/blob/main/Crawling_wave_1.ipynb\" target=\"_parent\"><img src=\"https://colab.research.google.com/assets/colab-badge.svg\" alt=\"Open In Colab\"/></a>"
      ]
    },
    {
      "cell_type": "code",
      "source": [
        "import requests\n",
        "from bs4 import BeautifulSoup\n",
        "\n",
        "req = requests.get('https://google.com/search?q=')\n",
        "\n",
        "\n",
        "## HTML 소스 가져오기\n",
        "html = req.text\n",
        "## HTTP Header 가져오기\n",
        "header = req.headers\n",
        "## HTTP Status 가져오기 (200: 정상)\n",
        "status = req.status_code\n",
        "## HTTP가 정상적으로 되었는지 (True/False)\n",
        "is_ok = req.ok\n"
      ],
      "metadata": {
        "id": "8PJps2GnAcxL"
      },
      "execution_count": 6,
      "outputs": []
    }
  ]
}