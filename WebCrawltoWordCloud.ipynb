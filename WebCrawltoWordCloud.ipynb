{
  "cells": [
    {
      "cell_type": "code",
      "execution_count": 26,
      "id": "babe28ec",
      "metadata": {
        "id": "babe28ec",
        "outputId": "17dd8996-a509-495a-a425-6bc95936b18b",
        "colab": {
          "base_uri": "https://localhost:8080/"
        }
      },
      "outputs": [
        {
          "output_type": "stream",
          "name": "stdout",
          "text": [
            "Looking in indexes: https://pypi.org/simple, https://us-python.pkg.dev/colab-wheels/public/simple/\n",
            "Requirement already satisfied: konlpy in /usr/local/lib/python3.8/dist-packages (0.6.0)\n",
            "Requirement already satisfied: lxml>=4.1.0 in /usr/local/lib/python3.8/dist-packages (from konlpy) (4.9.1)\n",
            "Requirement already satisfied: numpy>=1.6 in /usr/local/lib/python3.8/dist-packages (from konlpy) (1.21.6)\n",
            "Requirement already satisfied: JPype1>=0.7.0 in /usr/local/lib/python3.8/dist-packages (from konlpy) (1.4.1)\n",
            "Requirement already satisfied: packaging in /usr/local/lib/python3.8/dist-packages (from JPype1>=0.7.0->konlpy) (21.3)\n",
            "Requirement already satisfied: pyparsing!=3.0.5,>=2.0.2 in /usr/local/lib/python3.8/dist-packages (from packaging->JPype1>=0.7.0->konlpy) (3.0.9)\n",
            "Looking in indexes: https://pypi.org/simple, https://us-python.pkg.dev/colab-wheels/public/simple/\n",
            "Requirement already satisfied: bs4 in /usr/local/lib/python3.8/dist-packages (0.0.1)\n",
            "Requirement already satisfied: beautifulsoup4 in /usr/local/lib/python3.8/dist-packages (from bs4) (4.6.3)\n"
          ]
        }
      ],
      "source": [
        "!pip install konlpy\n",
        "!pip install bs4"
      ]
    },
    {
      "cell_type": "code",
      "execution_count": 23,
      "id": "e26784c7",
      "metadata": {
        "scrolled": true,
        "id": "e26784c7"
      },
      "outputs": [],
      "source": [
        "#웹크롤링 라이브러리 호출\n",
        "import requests\n",
        "from urllib import parse\n",
        "from bs4 import BeautifulSoup as bs\n",
        "import bs4\n",
        "import ssl\n",
        "#워드클라우드 라이브러리 호출\n",
        "from wordcloud import WordCloud\n",
        "import matplotlib.pyplot as plt\n",
        "from collections import Counter\n",
        "from konlpy.tag import Okt\n",
        "from PIL import Image\n",
        "import numpy as np\n",
        "\n",
        "context = ssl._create_unverified_context()"
      ]
    },
    {
      "cell_type": "code",
      "execution_count": null,
      "id": "ebec8d94",
      "metadata": {
        "id": "ebec8d94"
      },
      "outputs": [],
      "source": [
        "\n",
        "\n",
        "\n",
        "search = input(\"검색어를 입력하시오: \")\n",
        "nsearch = parse.quote(search)\n",
        "url = 'https://www.google.com/search?q='+nsearch\n",
        "#ConnectionError방지\n",
        "headers = { \"User-Agent\": \"Mozilla/5.0 (Windows NT 10.0; Win64; x64) Chrome/100.0.48496.75\" }\n",
        "\n",
        "#html불러오기\n",
        "original_html = requests.get(url, headers=headers)\n",
        "sp = bs(original_html.text, \"html.parser\")\n",
        "\n",
        "sup = sp.find('h3')\n",
        "soup = sup.text\n",
        "\n",
        "\n",
        "print(soup)"
      ]
    }
  ],
  "metadata": {
    "kernelspec": {
      "display_name": "Python 3 (ipykernel)",
      "language": "python",
      "name": "python3"
    },
    "language_info": {
      "codemirror_mode": {
        "name": "ipython",
        "version": 3
      },
      "file_extension": ".py",
      "mimetype": "text/x-python",
      "name": "python",
      "nbconvert_exporter": "python",
      "pygments_lexer": "ipython3",
      "version": "3.9.13"
    },
    "colab": {
      "provenance": []
    }
  },
  "nbformat": 4,
  "nbformat_minor": 5
}